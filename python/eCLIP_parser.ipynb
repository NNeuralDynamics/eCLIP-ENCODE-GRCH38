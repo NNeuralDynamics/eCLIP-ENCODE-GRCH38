{
 "cells": [
  {
   "cell_type": "code",
   "execution_count": 1,
   "id": "c91b4f73-55b7-419d-ae5a-c9b99b4ccaa5",
   "metadata": {},
   "outputs": [],
   "source": [
    "from gtfparse import read_gtf\n",
    "import polars as pl\n",
    "import glob\n",
    "import urllib.request as request\n",
    "import os"
   ]
  },
  {
   "cell_type": "code",
   "execution_count": 2,
   "id": "9ea1fc4a-1d17-4ba3-9395-d287c40a6242",
   "metadata": {},
   "outputs": [],
   "source": [
    "def trim_chr(x):\n",
    "    ''' function for aligning the chromosomes in the GTF with the eCLIP data\n",
    "        arguments:\n",
    "            x: chromosome name\n",
    "        return:\n",
    "            formatted chromosome name\n",
    "    '''\n",
    "    sp = x.split('_')\n",
    "    return sp[0] if len(sp) == 1 else sp[1].replace('v', '.')"
   ]
  },
  {
   "cell_type": "code",
   "execution_count": 3,
   "id": "4d6e90b3-e07d-446f-88dd-c0955bded65e",
   "metadata": {},
   "outputs": [],
   "source": [
    "# read the metadata file\n",
    "df_m = pl.read_csv('../data/eCLIP/metadata.tsv', separator='\\t')\n",
    "file_list = df_m.filter((pl.col('File assembly') == 'GRCh38') & (pl.col('Biological replicate(s)') == '1, 2')).select(pl.col('File download URL')).to_numpy().flatten()\n",
    "\n",
    "# download the eCLIP files\n",
    "i = 0\n",
    "for file in file_list:\n",
    "    try:\n",
    "        path = '../data/eCLIP/'+file.split('/')[-1]\n",
    "        if not os.path.isfile(path):\n",
    "            request.urlretrieve(file, path)\n",
    "            i += 1\n",
    "            print('\\rDownloaded file no. {}: {}'.format(i, file.split('/')[-1]), end=\"\")\n",
    "    except Exception as e:\n",
    "        print('Cannot download file {} due to {}'.format(file.split('/')[-1], e))"
   ]
  },
  {
   "cell_type": "code",
   "execution_count": 4,
   "id": "dd738994-ffc6-4d48-81dc-38019139ed47",
   "metadata": {},
   "outputs": [
    {
     "name": "stderr",
     "output_type": "stream",
     "text": [
      "INFO:root:Extracted GTF attributes: ['gene_id', 'gene_type', 'gene_name', 'level', 'havana_gene', 'transcript_id', 'transcript_type', 'transcript_name', 'transcript_support_level', 'tag', 'havana_transcript', 'exon_number', 'exon_id', 'ont', 'protein_id', 'ccdsid']\n"
     ]
    }
   ],
   "source": [
    "# download the correct gtf version\n",
    "gtf_version = '29'\n",
    "gtf_url = 'https://ftp.ebi.ac.uk/pub/databases/gencode/Gencode_human/release_'+gtf_version+'/gencode.v'+gtf_version+'.primary_assembly.annotation.gtf.gz'\n",
    "gtf_path = '../data/gtf/gencode.v'+gtf_version+'.primary_assembly.annotation.gtf'\n",
    "if not os.path.isfile(gtf_path):\n",
    "    request.urlretrieve(gtf_url, gtf_path)\n",
    "df_f = read_gtf(gtf_path)\n",
    "df_f = df_f.filter(pl.col('feature') == 'transcript').select(pl.col('seqname', 'start', 'end', 'strand', 'gene_id', 'transcript_id'))"
   ]
  },
  {
   "cell_type": "code",
   "execution_count": 5,
   "id": "672b9579-9732-4832-931a-51a0abbab38a",
   "metadata": {},
   "outputs": [],
   "source": [
    "# read all the eCLIP bed files\n",
    "queries = []\n",
    "l_cols = [\"chr\", \"start\", \"stop\", \"dataset_label\", \"1000\", \"strand\", \n",
    "           \"log2(eCLIP fold-enrichment over size-matched input)\", \n",
    "           \"-log10(eCLIP vs size-matched input p-value)\", \"-1\", \"-1.1\"]\n",
    "for file in glob.glob(\"../data/eCLIP/*.bed.gz\"):\n",
    "    q = pl.read_csv(file, has_header=False, separator='\\t')\n",
    "    q.columns = l_cols\n",
    "    f_acc = file.split('/')[-1].split('.')[0]\n",
    "    c_line= df_m.filter(pl.col('File accession') == f_acc).select(pl.col('Biosample term name')).to_numpy()[0][0]\n",
    "    rbp = df_m.filter(pl.col('File accession') == f_acc).select(pl.col('Experiment target')).to_numpy()[0][0].split('-')[0]\n",
    "    q = q.with_columns(RBP = pl.lit(rbp))\n",
    "    q = q.with_columns(cell_line = pl.lit(c_line))\n",
    "    # fix the \".\" problem in 27 experiments\n",
    "    if q.filter(pl.col('dataset_label') == '.').shape[0] > 0:\n",
    "        q = q.with_columns(pl.lit(rbp+'_'+c_line+'_.').alias('dataset_label'))\n",
    "    queries.append(q)\n",
    "df_e = pl.concat(queries)\n",
    "df_e = df_e.with_columns(pl.col('chr').apply(trim_chr))"
   ]
  },
  {
   "cell_type": "code",
   "execution_count": 6,
   "id": "50695b9f-8ea0-4ec1-b9b1-7f5db6357b9e",
   "metadata": {
    "tags": []
   },
   "outputs": [
    {
     "name": "stdout",
     "output_type": "stream",
     "text": [
      "chr in eCLIP but not in GTF: set()\n",
      "chr in GTF but not in eCLIP: {'KI270726.1', 'KI270744.1', 'KI270734.1', 'KI270731.1', 'GL000225.1', 'KI270750.1', 'GL000205.2', 'GL000216.2', 'KI270713.1', 'KI270728.1', 'KI270727.1', 'GL000213.1'}\n"
     ]
    }
   ],
   "source": [
    "# compare the chromosomes in the eCLIP data with that in the GTF\n",
    "l_chr_e = df_e.select(pl.col('chr')).unique().to_numpy().flatten()\n",
    "l_chr_f = df_f.select(pl.col('seqname')).unique().to_numpy().flatten()\n",
    "print('chr in eCLIP but not in GTF: {}'.format(set(l_chr_e) - set(l_chr_f)))\n",
    "print('chr in GTF but not in eCLIP: {}'.format(set(l_chr_f) - set(l_chr_e)))"
   ]
  },
  {
   "cell_type": "code",
   "execution_count": 7,
   "id": "a82d78bc-75bc-4149-87a1-63e9c781e879",
   "metadata": {},
   "outputs": [
    {
     "data": {
      "text/html": [
       "<div><style>\n",
       ".dataframe > thead > tr,\n",
       ".dataframe > tbody > tr {\n",
       "  text-align: right;\n",
       "  white-space: pre-wrap;\n",
       "}\n",
       "</style>\n",
       "<small>shape: (5_413_600, 17)</small><table border=\"1\" class=\"dataframe\"><thead><tr><th>chr</th><th>start</th><th>stop</th><th>dataset_label</th><th>1000</th><th>strand</th><th>log2(eCLIP fold-enrichment over size-matched input)</th><th>-log10(eCLIP vs size-matched input p-value)</th><th>-1</th><th>-1.1</th><th>RBP</th><th>cell_line</th><th>featureStart</th><th>featureEnd</th><th>frame</th><th>ENSG</th><th>ENST</th></tr><tr><td>str</td><td>i64</td><td>i64</td><td>str</td><td>i64</td><td>str</td><td>f64</td><td>f64</td><td>i64</td><td>i64</td><td>str</td><td>str</td><td>i32</td><td>i32</td><td>str</td><td>str</td><td>str</td></tr></thead><tbody><tr><td>&quot;chr1&quot;</td><td>17456</td><td>17554</td><td>&quot;SMNDC1_K562_ID…</td><td>1000</td><td>&quot;-&quot;</td><td>3.094895</td><td>5.578109</td><td>-1</td><td>-1</td><td>&quot;SMNDC1&quot;</td><td>&quot;K562&quot;</td><td>14404</td><td>29570</td><td>&quot;-&quot;</td><td>&quot;ENSG0000022723…</td><td>&quot;ENST0000048814…</td></tr><tr><td>&quot;chr1&quot;</td><td>17451</td><td>17573</td><td>&quot;CSTF2T_K562_ID…</td><td>1000</td><td>&quot;-&quot;</td><td>3.361457</td><td>4.291127</td><td>-1</td><td>-1</td><td>&quot;CSTF2T&quot;</td><td>&quot;K562&quot;</td><td>14404</td><td>29570</td><td>&quot;-&quot;</td><td>&quot;ENSG0000022723…</td><td>&quot;ENST0000048814…</td></tr><tr><td>&quot;chr1&quot;</td><td>17454</td><td>17565</td><td>&quot;DDX24_K562_IDR…</td><td>1000</td><td>&quot;-&quot;</td><td>3.9512</td><td>18.674751</td><td>-1</td><td>-1</td><td>&quot;DDX24&quot;</td><td>&quot;K562&quot;</td><td>14404</td><td>29570</td><td>&quot;-&quot;</td><td>&quot;ENSG0000022723…</td><td>&quot;ENST0000048814…</td></tr><tr><td>&quot;chr1&quot;</td><td>17440</td><td>17537</td><td>&quot;EXOSC10_K562_.…</td><td>1000</td><td>&quot;-&quot;</td><td>3.357609</td><td>8.02757</td><td>-1</td><td>-1</td><td>&quot;EXOSC10&quot;</td><td>&quot;K562&quot;</td><td>14404</td><td>29570</td><td>&quot;-&quot;</td><td>&quot;ENSG0000022723…</td><td>&quot;ENST0000048814…</td></tr><tr><td>&quot;chr1&quot;</td><td>17502</td><td>17588</td><td>&quot;SF3B4_K562_IDR…</td><td>1000</td><td>&quot;-&quot;</td><td>5.17756</td><td>22.613928</td><td>-1</td><td>-1</td><td>&quot;SF3B4&quot;</td><td>&quot;K562&quot;</td><td>14404</td><td>29570</td><td>&quot;-&quot;</td><td>&quot;ENSG0000022723…</td><td>&quot;ENST0000048814…</td></tr><tr><td>&hellip;</td><td>&hellip;</td><td>&hellip;</td><td>&hellip;</td><td>&hellip;</td><td>&hellip;</td><td>&hellip;</td><td>&hellip;</td><td>&hellip;</td><td>&hellip;</td><td>&hellip;</td><td>&hellip;</td><td>&hellip;</td><td>&hellip;</td><td>&hellip;</td><td>&hellip;</td><td>&hellip;</td></tr><tr><td>&quot;KI270711.1&quot;</td><td>8603</td><td>8689</td><td>&quot;AQR_HepG2_IDR&quot;</td><td>1000</td><td>&quot;-&quot;</td><td>3.516163</td><td>5.829177</td><td>-1</td><td>-1</td><td>&quot;AQR&quot;</td><td>&quot;HepG2&quot;</td><td>6102</td><td>29626</td><td>&quot;-&quot;</td><td>&quot;ENSG0000027125…</td><td>&quot;ENST0000061636…</td></tr><tr><td>&quot;KI270711.1&quot;</td><td>8501</td><td>8564</td><td>&quot;KHSRP_HepG2_ID…</td><td>1000</td><td>&quot;-&quot;</td><td>3.841113</td><td>3.005509</td><td>-1</td><td>-1</td><td>&quot;KHSRP&quot;</td><td>&quot;HepG2&quot;</td><td>6102</td><td>29626</td><td>&quot;-&quot;</td><td>&quot;ENSG0000027125…</td><td>&quot;ENST0000061636…</td></tr><tr><td>&quot;KI270711.1&quot;</td><td>10139</td><td>10192</td><td>&quot;ZNF622_K562_ID…</td><td>1000</td><td>&quot;-&quot;</td><td>4.466821</td><td>4.580564</td><td>-1</td><td>-1</td><td>&quot;ZNF622&quot;</td><td>&quot;K562&quot;</td><td>6102</td><td>29626</td><td>&quot;-&quot;</td><td>&quot;ENSG0000027125…</td><td>&quot;ENST0000061636…</td></tr><tr><td>&quot;KI270711.1&quot;</td><td>9492</td><td>9538</td><td>&quot;ZNF622_K562_ID…</td><td>1000</td><td>&quot;-&quot;</td><td>4.423089</td><td>4.769521</td><td>-1</td><td>-1</td><td>&quot;ZNF622&quot;</td><td>&quot;K562&quot;</td><td>6102</td><td>29626</td><td>&quot;-&quot;</td><td>&quot;ENSG0000027125…</td><td>&quot;ENST0000061636…</td></tr><tr><td>&quot;KI270721.1&quot;</td><td>7075</td><td>7204</td><td>&quot;XPO5_HepG2_IDR…</td><td>1000</td><td>&quot;+&quot;</td><td>6.331881</td><td>12.737918</td><td>-1</td><td>-1</td><td>&quot;XPO5&quot;</td><td>&quot;HepG2&quot;</td><td>2585</td><td>11802</td><td>&quot;+&quot;</td><td>&quot;ENSG0000027634…</td><td>&quot;ENST0000061284…</td></tr></tbody></table></div>"
      ],
      "text/plain": [
       "shape: (5_413_600, 17)\n",
       "┌────────────┬───────┬───────┬──────────────┬───┬────────────┬───────┬──────────────┬──────────────┐\n",
       "│ chr        ┆ start ┆ stop  ┆ dataset_labe ┆ … ┆ featureEnd ┆ frame ┆ ENSG         ┆ ENST         │\n",
       "│ ---        ┆ ---   ┆ ---   ┆ l            ┆   ┆ ---        ┆ ---   ┆ ---          ┆ ---          │\n",
       "│ str        ┆ i64   ┆ i64   ┆ ---          ┆   ┆ i32        ┆ str   ┆ str          ┆ str          │\n",
       "│            ┆       ┆       ┆ str          ┆   ┆            ┆       ┆              ┆              │\n",
       "╞════════════╪═══════╪═══════╪══════════════╪═══╪════════════╪═══════╪══════════════╪══════════════╡\n",
       "│ chr1       ┆ 17456 ┆ 17554 ┆ SMNDC1_K562_ ┆ … ┆ 29570      ┆ -     ┆ ENSG00000227 ┆ ENST00000488 │\n",
       "│            ┆       ┆       ┆ IDR          ┆   ┆            ┆       ┆ 232          ┆ 147          │\n",
       "│ chr1       ┆ 17451 ┆ 17573 ┆ CSTF2T_K562_ ┆ … ┆ 29570      ┆ -     ┆ ENSG00000227 ┆ ENST00000488 │\n",
       "│            ┆       ┆       ┆ IDR          ┆   ┆            ┆       ┆ 232          ┆ 147          │\n",
       "│ chr1       ┆ 17454 ┆ 17565 ┆ DDX24_K562_I ┆ … ┆ 29570      ┆ -     ┆ ENSG00000227 ┆ ENST00000488 │\n",
       "│            ┆       ┆       ┆ DR           ┆   ┆            ┆       ┆ 232          ┆ 147          │\n",
       "│ chr1       ┆ 17440 ┆ 17537 ┆ EXOSC10_K562 ┆ … ┆ 29570      ┆ -     ┆ ENSG00000227 ┆ ENST00000488 │\n",
       "│            ┆       ┆       ┆ _.           ┆   ┆            ┆       ┆ 232          ┆ 147          │\n",
       "│ chr1       ┆ 17502 ┆ 17588 ┆ SF3B4_K562_I ┆ … ┆ 29570      ┆ -     ┆ ENSG00000227 ┆ ENST00000488 │\n",
       "│            ┆       ┆       ┆ DR           ┆   ┆            ┆       ┆ 232          ┆ 147          │\n",
       "│ …          ┆ …     ┆ …     ┆ …            ┆ … ┆ …          ┆ …     ┆ …            ┆ …            │\n",
       "│ KI270711.1 ┆ 8603  ┆ 8689  ┆ AQR_HepG2_ID ┆ … ┆ 29626      ┆ -     ┆ ENSG00000271 ┆ ENST00000616 │\n",
       "│            ┆       ┆       ┆ R            ┆   ┆            ┆       ┆ 254          ┆ 361          │\n",
       "│ KI270711.1 ┆ 8501  ┆ 8564  ┆ KHSRP_HepG2_ ┆ … ┆ 29626      ┆ -     ┆ ENSG00000271 ┆ ENST00000616 │\n",
       "│            ┆       ┆       ┆ IDR          ┆   ┆            ┆       ┆ 254          ┆ 361          │\n",
       "│ KI270711.1 ┆ 10139 ┆ 10192 ┆ ZNF622_K562_ ┆ … ┆ 29626      ┆ -     ┆ ENSG00000271 ┆ ENST00000616 │\n",
       "│            ┆       ┆       ┆ IDR          ┆   ┆            ┆       ┆ 254          ┆ 361          │\n",
       "│ KI270711.1 ┆ 9492  ┆ 9538  ┆ ZNF622_K562_ ┆ … ┆ 29626      ┆ -     ┆ ENSG00000271 ┆ ENST00000616 │\n",
       "│            ┆       ┆       ┆ IDR          ┆   ┆            ┆       ┆ 254          ┆ 361          │\n",
       "│ KI270721.1 ┆ 7075  ┆ 7204  ┆ XPO5_HepG2_I ┆ … ┆ 11802      ┆ +     ┆ ENSG00000276 ┆ ENST00000612 │\n",
       "│            ┆       ┆       ┆ DR           ┆   ┆            ┆       ┆ 345          ┆ 848          │\n",
       "└────────────┴───────┴───────┴──────────────┴───┴────────────┴───────┴──────────────┴──────────────┘"
      ]
     },
     "execution_count": 7,
     "metadata": {},
     "output_type": "execute_result"
    }
   ],
   "source": [
    "# blend in the eCLIP data with the GTF file\n",
    "queries = []\n",
    "for row in df_f.iter_rows(named=True):\n",
    "    df_tmp = df_e.filter((pl.col('start') >= row['start']) \n",
    "                         & (pl.col('stop') <= row['end']) \n",
    "                         & (pl.col('chr') == row['seqname']) \n",
    "                         & (pl.col('strand') == row['strand']))\n",
    "    if df_tmp.shape[0] != 0:\n",
    "        df_tmp = df_tmp.with_columns(featureStart = pl.lit(row['start']))\n",
    "        df_tmp = df_tmp.with_columns(featureEnd = pl.lit(row['end']))\n",
    "        df_tmp = df_tmp.with_columns(frame = pl.lit(row['strand']))\n",
    "        df_tmp = df_tmp.with_columns(ENSG = pl.lit(row['gene_id'].split('.')[0]))\n",
    "        df_tmp = df_tmp.with_columns(ENST = pl.lit(row['transcript_id'].split('.')[0]))\n",
    "        queries.append(df_tmp)\n",
    "\n",
    "df_a = pl.concat(queries)\n",
    "df_a"
   ]
  },
  {
   "cell_type": "code",
   "execution_count": 8,
   "id": "92e42d20-3205-4d4c-ac9a-bd76e0b9735e",
   "metadata": {},
   "outputs": [],
   "source": [
    "df_a.to_pandas().to_csv('../data/eCLIP/eCLIP_ENCODE_merged_April_2024_GRCh38_GENCODEv'+gtf_version+'.csv.gz', index=False)"
   ]
  }
 ],
 "metadata": {
  "kernelspec": {
   "display_name": "rbp",
   "language": "python",
   "name": "rbp"
  },
  "language_info": {
   "codemirror_mode": {
    "name": "ipython",
    "version": 3
   },
   "file_extension": ".py",
   "mimetype": "text/x-python",
   "name": "python",
   "nbconvert_exporter": "python",
   "pygments_lexer": "ipython3",
   "version": "3.9.16"
  }
 },
 "nbformat": 4,
 "nbformat_minor": 5
}
